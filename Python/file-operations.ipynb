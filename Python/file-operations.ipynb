{
 "cells": [
  {
   "cell_type": "markdown",
   "metadata": {},
   "source": [
    "# Python File Operations"
   ]
  },
  {
   "cell_type": "markdown",
   "metadata": {},
   "source": [
    "The following is the open modes of Python `open` function. The default mode is `rt`."
   ]
  },
  {
   "cell_type": "markdown",
   "metadata": {},
   "source": [
    "|                          | r   | r+  | x   | x+  | w   | w+  | a   | a+  |\n",
    "|--------------------------|-----|-----|-----|-----|-----|-----|-----|-----|\n",
    "| readable                 | ✓   | ✓   |     | ✓   |     | ✓   |     | ✓   |\n",
    "| writable                 |     | ✓   | ✓   | ✓   | ✓   | ✓   | ✓   | ✓   |\n",
    "| default position: start  | ✓   | ✓   | ✓   | ✓   | ✓   | ✓   |     |     |\n",
    "| default position: end    |     |     |     |     |     |     | ✓   | ✓   |\n",
    "| must exist               | ✓   | ✓   |     |     |     |     |     |     |\n",
    "| mustn't exist            |     |     | ✓   | ✓   |     |     | ✓   | ✓   |\n",
    "| truncate (clear file) on load |     |     |     |     | ✓   | ✓   |     |     |\n",
    "| always write to EOF      |     |     |     |     |     |     | ✓   | ✓   |"
   ]
  },
  {
   "cell_type": "markdown",
   "metadata": {},
   "source": [
    "|                            | t           | b   |\n",
    "|----------------------------|-------------|-----|\n",
    "| str                        | ✓           |     |\n",
    "| bytes                      |             | ✓   |\n"
   ]
  },
  {
   "cell_type": "markdown",
   "metadata": {},
   "source": [
    "## Read Files"
   ]
  },
  {
   "cell_type": "markdown",
   "metadata": {},
   "source": [
    "### Text Files"
   ]
  },
  {
   "cell_type": "code",
   "execution_count": 18,
   "metadata": {},
   "outputs": [
    {
     "name": "stdout",
     "output_type": "stream",
     "text": [
      "Line 0: This is the first line\n",
      "\n",
      "Line 1: The second line is here\n",
      "\n"
     ]
    }
   ],
   "source": [
    "# The default mode is `rt`\n",
    "file = open(\"text.txt\")\n",
    "\n",
    "lines = file.readlines()\n",
    "\n",
    "for i in range(len(lines)):\n",
    "    print(f\"Line {i}:\", lines[i])\n",
    "\n",
    "file.close()"
   ]
  },
  {
   "cell_type": "markdown",
   "metadata": {},
   "source": [
    "### Binary Files"
   ]
  },
  {
   "cell_type": "code",
   "execution_count": 17,
   "metadata": {},
   "outputs": [
    {
     "name": "stdout",
     "output_type": "stream",
     "text": [
      "Byte count is 8341659\n"
     ]
    }
   ],
   "source": [
    "file = open(\"image.png\", \"rb\")\n",
    "\n",
    "bytes = file.read()\n",
    "print(\"Byte count is\", len(bytes))\n",
    "\n",
    "file.close()"
   ]
  },
  {
   "cell_type": "markdown",
   "metadata": {},
   "source": [
    "### Using `with` Expressions"
   ]
  },
  {
   "cell_type": "markdown",
   "metadata": {},
   "source": [
    "When using `with` expressions to open a file, it it closed automatically."
   ]
  },
  {
   "cell_type": "code",
   "execution_count": 20,
   "metadata": {},
   "outputs": [
    {
     "name": "stdout",
     "output_type": "stream",
     "text": [
      "Line 0: This is the first line\n",
      "\n",
      "Line 1: The second line is here\n",
      "\n"
     ]
    }
   ],
   "source": [
    "with open(\"text.txt\") as file:\n",
    "    lines = file.readlines()\n",
    "    for i in range(len(lines)):\n",
    "        print(f\"Line {i}:\", lines[i])"
   ]
  }
 ],
 "metadata": {
  "kernelspec": {
   "display_name": "base",
   "language": "python",
   "name": "python3"
  },
  "language_info": {
   "codemirror_mode": {
    "name": "ipython",
    "version": 3
   },
   "file_extension": ".py",
   "mimetype": "text/x-python",
   "name": "python",
   "nbconvert_exporter": "python",
   "pygments_lexer": "ipython3",
   "version": "3.12.9"
  }
 },
 "nbformat": 4,
 "nbformat_minor": 2
}
