{
 "cells": [
  {
   "cell_type": "markdown",
   "metadata": {},
   "source": [
    "This mini code sample demonstrates using [Ollama](https://ollama.com/) with [LangChain](https://www.langchain.com/).\n",
    "\n",
    "To run the code snippet, install the required packages using the following command:\n",
    "```sh\n",
    "pip install langchain_ollama\n",
    "```\n",
    "\n",
    "You also need to install Ollama and the LLM model llama3.2 (Or other models that you will use). You can find the instructions about Ollama on [ollama/ollama | Github](https://github.com/ollama/ollama)."
   ]
  },
  {
   "cell_type": "code",
   "execution_count": 2,
   "metadata": {},
   "outputs": [],
   "source": [
    "from langchain_ollama import ChatOllama"
   ]
  },
  {
   "cell_type": "code",
   "execution_count": 3,
   "metadata": {},
   "outputs": [],
   "source": [
    "llm = ChatOllama(model='llama3.2', temperature=0.1)"
   ]
  },
  {
   "cell_type": "code",
   "execution_count": 6,
   "metadata": {},
   "outputs": [
    {
     "data": {
      "text/plain": [
       "AIMessage(content=\"The Great Wall of China is one of the most impressive architectural achievements in history, and it's a must-see destination for anyone interested in history, culture, or simply amazing engineering.\\n\\n**History**\\n\\nThe Great Wall was built over several centuries to protect the Chinese Empire from invasions by nomadic tribes. The wall was constructed in multiple stages, with the first versions of the wall being built as early as the 7th century BC. However, the most famous and well-preserved sections of the wall were built during the Qin Dynasty (221-206 BC) and the Ming Dynasty (1368-1644 AD).\\n\\n**Construction**\\n\\nThe Great Wall stretches for approximately 13,171 miles (21,196 km), making it one of the longest structures ever built. It was constructed using local materials such as stone, brick, rammed earth, and wood. The wall was built by thousands of workers, including soldiers, prisoners, and local villagers.\\n\\n**Features**\\n\\nThe Great Wall is an impressive feat of engineering, with watchtowers, beacon towers, and gateways that were used for military purposes. Some notable features include:\\n\\n* **Watchtowers**: These were small structures built to provide a vantage point for soldiers to spot enemy troops.\\n* **Beacon towers**: These were taller than watchtowers and were used to send signals to other parts of the wall, warning of impending attacks.\\n* **Gateways**: These were large gates that controlled access to the wall and were often decorated with intricate carvings.\\n\\n**Interesting Facts**\\n\\n* The Great Wall is not visible from space, despite its reputation as being the longest man-made structure in the world. This myth likely originated from a 1938 book by a German writer who claimed it was visible from the moon.\\n* The Great Wall has been used for various purposes over the centuries, including as a military fortification, a trade route, and even as a tourist attraction.\\n* The wall is not just a single structure; it's actually a collection of separate walls built by different dynasties.\\n\\n**Visiting the Great Wall**\\n\\nThe Great Wall is located in China, primarily in the provinces of Beijing, Hebei, Shanxi, and Gansu. There are several sections of the wall that are open to visitors, including:\\n\\n* **Badaling Great Wall**: This is one of the most popular sections of the wall, with over 10 million visitors per year.\\n* **Mutianyu Great Wall**: This section is known for its steep climbs and stunning views.\\n* **Jinshanling Great Wall**: This section is less crowded than Badaling but still offers breathtaking views.\\n\\n**Conservation Efforts**\\n\\nThe Great Wall has faced numerous threats, including erosion, pollution, and over-tourism. In recent years, the Chinese government has implemented conservation efforts to protect the wall, including:\\n\\n* **Restoration work**: The government has invested millions of dollars in restoring damaged sections of the wall.\\n* **Tourist management**: Efforts have been made to control the number of visitors and reduce the impact of tourism on the wall.\\n\\nOverall, the Great Wall of China is an incredible feat of engineering and a testament to the ingenuity and determination of the people who built it.\", additional_kwargs={}, response_metadata={'model': 'llama3.2', 'created_at': '2025-05-07T02:31:10.937087Z', 'done': True, 'done_reason': 'stop', 'total_duration': 10163879917, 'load_duration': 681395834, 'prompt_eval_count': 34, 'prompt_eval_duration': 268239959, 'eval_count': 656, 'eval_duration': 9213496375, 'message': Message(role='assistant', content='', images=None, tool_calls=None)}, id='run--c254b313-2302-4550-b6bc-d3df6f9916fe-0', usage_metadata={'input_tokens': 34, 'output_tokens': 656, 'total_tokens': 690})"
      ]
     },
     "execution_count": 6,
     "metadata": {},
     "output_type": "execute_result"
    }
   ],
   "source": [
    "llm.invoke(\"Tell me about the great wall of china.\")"
   ]
  }
 ],
 "metadata": {
  "kernelspec": {
   "display_name": "ai-scout",
   "language": "python",
   "name": "python3"
  },
  "language_info": {
   "codemirror_mode": {
    "name": "ipython",
    "version": 3
   },
   "file_extension": ".py",
   "mimetype": "text/x-python",
   "name": "python",
   "nbconvert_exporter": "python",
   "pygments_lexer": "ipython3",
   "version": "3.12.9"
  }
 },
 "nbformat": 4,
 "nbformat_minor": 2
}
