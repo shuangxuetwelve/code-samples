{
 "cells": [
  {
   "cell_type": "code",
   "execution_count": 2,
   "metadata": {},
   "outputs": [],
   "source": [
    "from langchain_ollama import ChatOllama"
   ]
  },
  {
   "cell_type": "code",
   "execution_count": 3,
   "metadata": {},
   "outputs": [],
   "source": [
    "llm = ChatOllama(model='llama3.2', temperature=0.1)"
   ]
  },
  {
   "cell_type": "code",
   "execution_count": 5,
   "metadata": {},
   "outputs": [
    {
     "data": {
      "text/plain": [
       "AIMessage(content=\"Here's one:\\n\\nWhat do you call a fake noodle?\\n\\nAn impasta!\\n\\nI hope that made you smile! Do you want to hear another one?\", additional_kwargs={}, response_metadata={'model': 'llama3.2', 'created_at': '2025-05-07T02:24:25.856573Z', 'done': True, 'done_reason': 'stop', 'total_duration': 587855000, 'load_duration': 28872166, 'prompt_eval_count': 32, 'prompt_eval_duration': 136060416, 'eval_count': 33, 'eval_duration': 422591709, 'message': Message(role='assistant', content='', images=None, tool_calls=None)}, id='run--2d3f5d0c-aafc-4513-a3c4-7b50e1568d92-0', usage_metadata={'input_tokens': 32, 'output_tokens': 33, 'total_tokens': 65})"
      ]
     },
     "execution_count": 5,
     "metadata": {},
     "output_type": "execute_result"
    }
   ],
   "source": [
    "llm.invoke(\"Can you tell me a joke?\")"
   ]
  }
 ],
 "metadata": {
  "kernelspec": {
   "display_name": "ai-scout",
   "language": "python",
   "name": "python3"
  },
  "language_info": {
   "codemirror_mode": {
    "name": "ipython",
    "version": 3
   },
   "file_extension": ".py",
   "mimetype": "text/x-python",
   "name": "python",
   "nbconvert_exporter": "python",
   "pygments_lexer": "ipython3",
   "version": "3.12.9"
  }
 },
 "nbformat": 4,
 "nbformat_minor": 2
}
